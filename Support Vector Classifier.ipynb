{
 "cells": [
  {
   "cell_type": "code",
   "execution_count": 1,
   "id": "ffce006b",
   "metadata": {
    "id": "ffce006b"
   },
   "outputs": [],
   "source": [
    "import numpy as np\n",
    "import matplotlib.pyplot as plt\n",
    "from mlxtend.plotting.decision_regions import plot_decision_regions\n",
    "from sklearn.datasets import make_circles\n",
    "from sklearn.model_selection import train_test_split\n",
    "from mpl_toolkits.mplot3d import Axes3D\n",
    "\n",
    "#%matplotlib widget\n",
    "\n",
    "def linear_kernel(x1, x2):\n",
    "    return x1.T @ x2\n",
    "\n",
    "def non_linear(x1,x2):\n",
    "    x1 = np.vstack((x1[0]**2, x1[1]**2, np.sqrt(2) * x1[0] * x1[1])).T\n",
    "    x2 = np.vstack((x2[0]**2, x2[1]**2, np.sqrt(2) * x2[0] * x2[1])).T\n",
    "    return x1 @ x2.T\n",
    "\n",
    "class svm():\n",
    "    def __init__(self, kernel='linear', c=1.0, tol=1e-3, maxiter=10):\n",
    "        self._kernel = kernel\n",
    "        self._tol = tol\n",
    "        self._maxiter = maxiter\n",
    "        self.eps = 0.001\n",
    "        \n",
    "        if self._kernel == 'linear':\n",
    "            self._k = linear_kernel\n",
    "        else:\n",
    "            self._k = non_linear\n",
    "        self._c = c\n",
    "        \n",
    "    def _init_params(self):\n",
    "        self._error_cache = np.zeros(self._data.shape[0])\n",
    "        self._alphas = np.ones(self._data.shape[0]) * .1\n",
    "        self._b = 0\n",
    "        \n",
    "        if self._kernel == 'linear':\n",
    "            self._weights = np.random.rand(self._data.shape[1])\n",
    "\n",
    "    def predict_score(self, x):\n",
    "        \"\"\"Predicts a raw score (not classification)\n",
    "        \n",
    "        Arguments\n",
    "            x, array (batch_size, n_features) - input samples.\n",
    "        \"\"\"\n",
    "        u = 0\n",
    "        if self._kernel == 'linear':\n",
    "            u = self._weights @ x.T - self._b\n",
    "        else:\n",
    "            for i in range(self._data.shape[0]):\n",
    "                u += self._targets[i] * self._alphas[i] * self._k(self._data[i], x)\n",
    "            u -= self._b\n",
    "\n",
    "        return u\n",
    "        \n",
    "    def predict(self, x):\n",
    "        \"\"\"Classifies input samples.\n",
    "        \n",
    "        Arguments\n",
    "            x, array (batch_size, n_features) - input samples.\n",
    "        \"\"\"\n",
    "        score = []\n",
    "        for i in x:\n",
    "            pred = self.predict_score(i)\n",
    "            if self._kernel == 'linear':\n",
    "                if pred < 0:\n",
    "                  pred = 0\n",
    "                else:\n",
    "                  pred = 1\n",
    "            else:\n",
    "                if pred < 0:\n",
    "                  pred = 1\n",
    "                else:\n",
    "                  pred = 0\n",
    "            score.append(pred)\n",
    "        score = np.array(score)\n",
    "        return score\n",
    "\n",
    "\n",
    "    def smo_step(self, i1, i2):\n",
    "        if i1 == i2:\n",
    "            return 0\n",
    "\n",
    "        x1 = self._data[i1]\n",
    "        x2 = self._data[i2]\n",
    "        y1 = self._targets[i1]\n",
    "        y2 = self._targets[i2]\n",
    "        alpha1 = self._alphas[i1]\n",
    "        alpha2 = self._alphas[i2]\n",
    "\n",
    "        # Compute errors for x1 and x2\n",
    "        e1 = self.predict_score(x1) - y1\n",
    "        e2 = self.predict_score(x2) - y2\n",
    "\n",
    "        s = y1 * y2\n",
    "\n",
    "        if s == 1:\n",
    "            L = max(0, alpha2 + alpha1 - self._c)\n",
    "            H = min(self._c, alpha2 + alpha1)\n",
    "        else:\n",
    "            L = max(0, alpha2 - alpha1)\n",
    "            H = min(self._c, self._c + alpha2 - alpha1)\n",
    "\n",
    "        if L == H:\n",
    "            return 0\n",
    "\n",
    "        k11 = self._k(x1, x1)\n",
    "        k22 = self._k(x2, x2)\n",
    "        k12 = self._k(x1, x2)\n",
    "\n",
    "        eta = k11 + k22 - 2 * k12\n",
    "\n",
    "        if eta > 0:\n",
    "            a2 = alpha2 + y2 * (e1 - e2) / eta\n",
    "            if a2 <= L:\n",
    "                a2 = L\n",
    "            elif a2 >= H:\n",
    "                a2 = H\n",
    "        # TODO: the negative case\n",
    "        else:\n",
    "            f1 = e1 + self._b\n",
    "            f1 = y1*f1\n",
    "            f1 = f1 - alpha1 * k11\n",
    "            f1 = f1 - s*alpha2*k12\n",
    "            f2 = e2 + self._b\n",
    "            f2 = y2*f2\n",
    "            f2 = f2 - s*alpha1*k12\n",
    "            f2 = f2 - alpha2*k22\n",
    "            lf2 = L*f2\n",
    "            hf2 = H*f2\n",
    "            L1 = alpha1 + s*(alpha2 - L)\n",
    "            H1 = alpha1 + s*(alpha2 - H)\n",
    "            lf1 = (L1*f1)\n",
    "            hf1 = (H1*f1)\n",
    "            \n",
    "            Lobj = lf1 + lf2\n",
    "            Lobj = Lobj + (0.5*(L1**2)*k11) + (0.5*(L**2)*k22) + (s*L*L1*k12)\n",
    "            Hobj = hf1 + hf2\n",
    "            Hobj = Hobj + (0.5*(H1**2)*k11) + (0.5*(H**2)*k22) + (s*H*H1*k12)\n",
    "            \n",
    "            if (Lobj < Hobj- self.eps):\n",
    "                a2 = L\n",
    "            elif (Lobj > (Hobj + self.eps)):\n",
    "                  a2 = H\n",
    "            else:\n",
    "                  a2 = alpha2\n",
    "            \n",
    "        if np.abs(a2 - alpha2) < 1e-3 * (a2 + alpha2 + 1e-3):\n",
    "            return 0\n",
    "\n",
    "        a1 = alpha1 + s * (alpha2 - a2)\n",
    "\n",
    "        # Update threshold to reflect change in Lagrange multipliers\n",
    "        b1 = e1 + y1 * (a1 - alpha1) * k11 + y2 * (a2 - alpha2) * k12 + self._b\n",
    "        b2 = e2 + y1 * (a1 - alpha1) * k12 + y2 * (a2 - alpha2) * k22 + self._b\n",
    "        self._b = (b1 + b2) / 2\n",
    "\n",
    "        # Update weight vector to reflect change in a1 & a2, if SVM is linear\n",
    "        if self._kernel == 'linear':\n",
    "            self._weights = np.sum((self._targets * self._alphas)[:, None] * self._data, axis=0)\n",
    "        \n",
    "        # Store a1 and a2 in alpha array\n",
    "        self._alphas[i1] = a1\n",
    "        self._alphas[i2] = a2\n",
    "\n",
    "        # update error cache using new multipliers\n",
    "        for i in range (self._data.shape[0]):\n",
    "            self._error_cache[i] = self.predict_score(self._data[i]) - self._targets[i]\n",
    "\n",
    "        return 1\n",
    "\n",
    "    def examine(self, i2):\n",
    "        x2 = self._data[i2]\n",
    "        y2 = self._targets[i2]\n",
    "        alpha2 = self._alphas[i2]\n",
    "        e2 = self.predict_score(x2) - y2\n",
    "        r2 = e2 * y2\n",
    "\n",
    "        # Heuristic for picking the first multiplier\n",
    "        if (r2 < -self._tol and alpha2 < self._c) or (r2 > self._tol and alpha2 > 0):\n",
    "            f_idxs = np.where((self._alphas != 0) & (self._alphas != self._c))[0]\n",
    "\n",
    "            if len(f_idxs) > 1:\n",
    "                # Hueristic for second multiplier: get i1 with lowest absolute error |e1 - e2|\n",
    "\n",
    "                # TODO: Clean this up\n",
    "                if e2 > 0:\n",
    "                    min_error = 999999\n",
    "                    for i, v in enumerate(f_idxs):\n",
    "                        if v == i2:\n",
    "                            continue\n",
    "\n",
    "                        if self._error_cache[v] == 0:\n",
    "                            self._error_cache[v] = self.predict_score(self._data[v]) - self._targets[v]\n",
    "                        error = np.abs(e2 - self._error_cache[v])\n",
    "\n",
    "                        if error < min_error:\n",
    "                            min_error = error\n",
    "                            i1 = v\n",
    "                else:\n",
    "                    max_error = -999999\n",
    "                    for i, v in enumerate(f_idxs):\n",
    "                        if v == i2:\n",
    "                            continue\n",
    "\n",
    "                        if self._error_cache[v] == 0:\n",
    "                            self._error_cache[v] = self.predict_score(self._data[v]) - self._targets[v]\n",
    "                        error = np.abs(e2 - self._error_cache[v])\n",
    "\n",
    "                        if error > max_error:\n",
    "                            max_error = error\n",
    "                            i1 = v\n",
    "\n",
    "                if self.smo_step(i1, i2):\n",
    "                    return 1\n",
    "                \n",
    "                # Loop over all non-zero and non-C alpha, starting at random point\n",
    "                for i, v in enumerate(np.random.permutation(f_idxs)):\n",
    "                    if self.smo_step(v, i2):\n",
    "                        return 1\n",
    "                \n",
    "                # Loop over all possible i1, starting at a random point\n",
    "                for i, v in enumerate(np.random.permutation(range(self._data.shape[0]))):\n",
    "                    if v == i2:\n",
    "                        continue\n",
    "                    if self.smo_step(v, i2):\n",
    "                        return 1\n",
    "                \n",
    "        return 0\n",
    "    \n",
    "    def fit(self, data, targets):\n",
    "        self._data = data\n",
    "        self._targets = targets\n",
    "        \n",
    "        self._init_params()\n",
    "        \n",
    "        n_changed = 0\n",
    "        examine_all = True\n",
    "        n_iter = 0\n",
    "        \n",
    "        while (n_changed > 0 or examine_all is True) and n_iter < self._maxiter:\n",
    "            n_changed = 0\n",
    "            n_iter += 1\n",
    "            \n",
    "            if examine_all is True:\n",
    "                # loop over all training examples\n",
    "                for i in range(data.shape[0]):\n",
    "                    n_changed += self.examine(i)\n",
    "            else:\n",
    "                # loop over examples where alpha is not 0 & not C\n",
    "                f_idxs = np.where((self._alphas != 0) & (self._alphas != self._c))[0]\n",
    "                for i, v in enumerate(f_idxs):\n",
    "                    n_changed += self.examine(v)\n",
    "            \n",
    "            if examine_all is True:\n",
    "                examine_all = False\n",
    "            elif n_changed == 0:\n",
    "                examine_all = True"
   ]
  },
  {
   "cell_type": "code",
   "execution_count": 2,
   "id": "de0ef473",
   "metadata": {
    "colab": {
     "base_uri": "https://localhost:8080/"
    },
    "id": "de0ef473",
    "outputId": "96694061-6fa3-42d7-cc1d-155cb0ecbe13"
   },
   "outputs": [
    {
     "name": "stdout",
     "output_type": "stream",
     "text": [
      "(100, 2) (100,)\n"
     ]
    }
   ],
   "source": [
    "n_a_samples = 50\n",
    "n_b_samples = 50\n",
    "\n",
    "a_samples = np.random.multivariate_normal([-1, 1], [[0.1, 0], [0, 0.1]], n_a_samples)\n",
    "b_samples = np.random.multivariate_normal([1, -1], [[0.1, 0], [0, 0.1]], n_b_samples)\n",
    "a_targets = np.ones(n_a_samples) * -1  # Samples from class A are assigned a class value of -1.\n",
    "b_targets = np.ones(n_b_samples)  # Samples from class B are assigned a class value of 1.\n",
    "\n",
    "X, y = make_circles(n_samples=100, factor=0.3, noise=0.05, random_state=0)\n",
    "X_train, X_test, y_train, y_test = train_test_split(X, y, stratify=y, random_state=0,test_size=0.1)\n",
    "\n",
    "samples = np.concatenate((a_samples, b_samples))\n",
    "targets = np.concatenate((a_targets, b_targets))\n",
    "print(samples.shape, targets.shape)"
   ]
  },
  {
   "cell_type": "code",
   "execution_count": 3,
   "id": "842b27d3",
   "metadata": {
    "id": "842b27d3"
   },
   "outputs": [
    {
     "name": "stdout",
     "output_type": "stream",
     "text": [
      "[ 0.58187667 -1.03287124]\n",
      "-0.262562164606945\n"
     ]
    }
   ],
   "source": [
    "model = svm(c=5.0)\n",
    "model.fit(samples, targets)\n",
    "model1 = svm(kernel='poly')\n",
    "model1.fit(X_train,y_train)\n",
    "print(model._weights)\n",
    "print(model._b)"
   ]
  },
  {
   "cell_type": "code",
   "execution_count": 4,
   "id": "370aad43",
   "metadata": {},
   "outputs": [
    {
     "name": "stdout",
     "output_type": "stream",
     "text": [
      "weights=[ 0.58187667 -1.03287124]\n",
      "b=-0.262562164606945\n"
     ]
    },
    {
     "data": {
      "image/png": "[encoded data removed]",
      "text/plain": [
       "<Figure size 432x288 with 1 Axes>"
      ]
     },
     "metadata": {
      "needs_background": "light"
     },
     "output_type": "display_data"
    }
   ],
   "source": [
    "print(f\"weights={model._weights}\")\n",
    "print(f\"b={model._b}\")\n",
    "\n",
    "fig = plt.figure()\n",
    "ax = plot_decision_regions(samples, targets.astype(np.int32), model)\n",
    "fig.add_subplot(ax)\n",
    "plt.show()"
   ]
  },
  {
   "cell_type": "code",
   "execution_count": 5,
   "id": "94962436",
   "metadata": {},
   "outputs": [
    {
     "name": "stdout",
     "output_type": "stream",
     "text": [
      "coef_=[[ 0.62132802 -0.78379253]]\n",
      "intercept=[0.04696795]\n"
     ]
    },
    {
     "data": {
      "image/png": "[encoded data removed]",
      "text/plain": [
       "<Figure size 432x288 with 1 Axes>"
      ]
     },
     "metadata": {
      "needs_background": "light"
     },
     "output_type": "display_data"
    }
   ],
   "source": [
    "from sklearn.svm import LinearSVC\n",
    "\n",
    "\n",
    "sk_model = LinearSVC()\n",
    "sk_model.fit(samples, targets.astype(np.int32))\n",
    "\n",
    "print(f\"coef_={sk_model.coef_}\")\n",
    "print(f\"intercept={sk_model.intercept_}\")\n",
    "\n",
    "fig = plt.figure()\n",
    "ax = plot_decision_regions(samples, targets.astype(np.int32), sk_model)\n",
    "fig.add_subplot(ax)\n",
    "plt.show()"
   ]
  },
  {
   "cell_type": "code",
   "execution_count": 6,
   "id": "eb463956",
   "metadata": {
    "colab": {
     "base_uri": "https://localhost:8080/",
     "height": 320
    },
    "id": "eb463956",
    "outputId": "1a84edf5-1fdb-4630-fbed-d0176ff9c562"
   },
   "outputs": [
    {
     "data": {
      "image/png": "[encoded data removed]",
      "text/plain": [
       "<Figure size 432x288 with 1 Axes>"
      ]
     },
     "metadata": {
      "needs_background": "light"
     },
     "output_type": "display_data"
    }
   ],
   "source": [
    "fig = plt.figure()\n",
    "ax = plot_decision_regions(X_test,y_test, model1)\n",
    "fig.add_subplot(ax)\n",
    "plt.show()"
   ]
  },
  {
   "cell_type": "code",
   "execution_count": 7,
   "id": "b90accd7",
   "metadata": {
    "colab": {
     "referenced_widgets": [
      "f2f83bc66ca14d848b33688acf927d23"
     ]
    },
    "id": "b90accd7",
    "outputId": "0f530a24-82b8-47f8-9a04-52490d07492f"
   },
   "outputs": [
    {
     "data": {
      "image/png": "[encoded data removed]",
      "text/plain": [
       "<Figure size 432x288 with 1 Axes>"
      ]
     },
     "metadata": {
      "needs_background": "light"
     },
     "output_type": "display_data"
    }
   ],
   "source": [
    "from sklearn.svm import SVC\n",
    "svclassifier = SVC(kernel='poly',degree = 6)\n",
    "svclassifier.fit(X_train, y_train)\n",
    "\n",
    "fig = plt.figure()\n",
    "ax = plot_decision_regions(X_test,y_test, svclassifier)\n",
    "fig.add_subplot(ax)\n",
    "plt.show()"
   ]
  },
  {
   "cell_type": "code",
   "execution_count": 8,
   "id": "58a05b2d",
   "metadata": {},
   "outputs": [],
   "source": [
    "class multisvm():\n",
    "    def __init__(self,x,y,xt,yt):\n",
    "        k = len(np.unique(y))\n",
    "        for i in range(k):\n",
    "            target = []\n",
    "            ytest = []\n",
    "            for j in range(len(y)):\n",
    "                if i != y[j]:\n",
    "                    target.append(1)\n",
    "                else:\n",
    "                    target.append(0)\n",
    "            for r in range(len(yt)):\n",
    "                if i != y[j]:\n",
    "                    ytest.append(1)\n",
    "                else:\n",
    "                    ytest.append(0)\n",
    "            target = np.array(target)\n",
    "            ytest = np.array(ytest)\n",
    "            model = svm()\n",
    "            model.fit(x, target)\n",
    "            model1 = svm(kernel='poly')\n",
    "            model1.fit(x,target)\n",
    "            l = LinearSVC()\n",
    "            l.fit(x,target)\n",
    "            poly = SVC(kernel = 'poly', degree = 6)\n",
    "            poly.fit(x,target)\n",
    "            m = model.predict(xt)\n",
    "            m1 = model1.predict(xt)\n",
    "            m_svc = l.predict(xt)\n",
    "            m1_svc = poly.predict(xt)\n",
    "            print(\"class \", i , \"vs Rest\")\n",
    "            print(\"accuracy linear svm\")\n",
    "            print(accuracy_score(ytest, m)*100)\n",
    "            print(\"accuracy linear svc\")\n",
    "            print(accuracy_score(ytest,m_svc )*100)\n",
    "            print(\"accuracy polynomial svm\")\n",
    "            print(accuracy_score(ytest, m1)*100)\n",
    "            print(\"accuracy polynomial svc\")\n",
    "            print(accuracy_score(ytest, m1_svc)*100)\n",
    "            print(\"\\n\\n\\n\")\n",
    "                \n",
    "            \n",
    "                    "
   ]
  },
  {
   "cell_type": "code",
   "execution_count": 9,
   "id": "5263497b",
   "metadata": {},
   "outputs": [
    {
     "name": "stdout",
     "output_type": "stream",
     "text": [
      "sepal length & sepal width\n",
      "\n",
      "\n",
      "class  0 vs Rest\n",
      "accuracy linear svm\n",
      "46.666666666666664\n",
      "accuracy linear svc\n",
      "66.66666666666666\n",
      "accuracy polynomial svm\n",
      "53.333333333333336\n",
      "accuracy polynomial svc\n",
      "66.66666666666666\n",
      "\n",
      "\n",
      "\n",
      "\n"
     ]
    },
    {
     "name": "stderr",
     "output_type": "stream",
     "text": [
      "C:\\Users\\jasti\\anaconda3\\lib\\site-packages\\sklearn\\svm\\_base.py:985: ConvergenceWarning: Liblinear failed to converge, increase the number of iterations.\n",
      "  warnings.warn(\"Liblinear failed to converge, increase \"\n"
     ]
    },
    {
     "name": "stdout",
     "output_type": "stream",
     "text": [
      "class  1 vs Rest\n",
      "accuracy linear svm\n",
      "53.333333333333336\n",
      "accuracy linear svc\n",
      "80.0\n",
      "accuracy polynomial svm\n",
      "60.0\n",
      "accuracy polynomial svc\n",
      "53.333333333333336\n",
      "\n",
      "\n",
      "\n",
      "\n"
     ]
    },
    {
     "name": "stderr",
     "output_type": "stream",
     "text": [
      "C:\\Users\\jasti\\anaconda3\\lib\\site-packages\\sklearn\\svm\\_base.py:985: ConvergenceWarning: Liblinear failed to converge, increase the number of iterations.\n",
      "  warnings.warn(\"Liblinear failed to converge, increase \"\n"
     ]
    },
    {
     "name": "stdout",
     "output_type": "stream",
     "text": [
      "class  2 vs Rest\n",
      "accuracy linear svm\n",
      "93.33333333333333\n",
      "accuracy linear svc\n",
      "26.666666666666668\n",
      "accuracy polynomial svm\n",
      "6.666666666666667\n",
      "accuracy polynomial svc\n",
      "20.0\n",
      "\n",
      "\n",
      "\n",
      "\n",
      "petal length & petal width\n",
      "\n",
      "\n",
      "class  0 vs Rest\n",
      "accuracy linear svm\n",
      "66.66666666666666\n",
      "accuracy linear svc\n",
      "66.66666666666666\n",
      "accuracy polynomial svm\n",
      "33.33333333333333\n",
      "accuracy polynomial svc\n",
      "66.66666666666666\n",
      "\n",
      "\n",
      "\n",
      "\n"
     ]
    },
    {
     "name": "stderr",
     "output_type": "stream",
     "text": [
      "C:\\Users\\jasti\\anaconda3\\lib\\site-packages\\sklearn\\svm\\_base.py:985: ConvergenceWarning: Liblinear failed to converge, increase the number of iterations.\n",
      "  warnings.warn(\"Liblinear failed to converge, increase \"\n"
     ]
    },
    {
     "name": "stdout",
     "output_type": "stream",
     "text": [
      "class  1 vs Rest\n",
      "accuracy linear svm\n",
      "40.0\n",
      "accuracy linear svc\n",
      "93.33333333333333\n",
      "accuracy polynomial svm\n",
      "73.33333333333333\n",
      "accuracy polynomial svc\n",
      "100.0\n",
      "\n",
      "\n",
      "\n",
      "\n",
      "class  2 vs Rest\n",
      "accuracy linear svm\n",
      "100.0\n",
      "accuracy linear svc\n",
      "33.33333333333333\n",
      "accuracy polynomial svm\n",
      "0.0\n",
      "accuracy polynomial svc\n",
      "33.33333333333333\n",
      "\n",
      "\n",
      "\n",
      "\n"
     ]
    }
   ],
   "source": [
    "from sklearn.datasets import load_iris,load_diabetes\n",
    "from sklearn.model_selection import train_test_split\n",
    "import math\n",
    "from sklearn.metrics import accuracy_score\n",
    "import matplotlib.pyplot as plt\n",
    "import numpy as np\n",
    "iris = load_iris()\n",
    "input_features = np.array(iris.data)\n",
    "input_features1 = input_features[:,:2]\n",
    "input_features2 = input_features[:,2:]\n",
    "target = np.array(iris.target)\n",
    "print(\"sepal length & sepal width\")\n",
    "print(\"\\n\")\n",
    "x_train,x_test,y_train,y_test=train_test_split(input_features1,target,test_size=0.1,random_state=54)\n",
    "main = multisvm(x_train,y_train,x_test,y_test)\n",
    "print(\"petal length & petal width\")\n",
    "print(\"\\n\")\n",
    "x_train,x_test,y_train,y_test=train_test_split(input_features2,target,test_size=0.1,random_state=54)\n",
    "main1 = multisvm(x_train,y_train,x_test,y_test)"
   ]
  },
  {
   "cell_type": "code",
   "execution_count": null,
   "id": "5509e6ac",
   "metadata": {},
   "outputs": [],
   "source": []
  },
  {
   "cell_type": "code",
   "execution_count": null,
   "id": "d025a387",
   "metadata": {},
   "outputs": [],
   "source": []
  }
 ],
 "metadata": {
  "colab": {
   "provenance": []
  },
  "kernelspec": {
   "display_name": "Python 3",
   "language": "python",
   "name": "python3"
  },
  "language_info": {
   "codemirror_mode": {
    "name": "ipython",
    "version": 3
   },
   "file_extension": ".py",
   "mimetype": "text/x-python",
   "name": "python",
   "nbconvert_exporter": "python",
   "pygments_lexer": "ipython3",
   "version": "3.8.8"
  }
 },
 "nbformat": 4,
 "nbformat_minor": 5
}
